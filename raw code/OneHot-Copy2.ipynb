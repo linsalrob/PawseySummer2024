{
 "cells": [
  {
   "cell_type": "code",
   "execution_count": 56,
   "id": "41be1cbc-4828-4715-bbd2-0bd2dc041713",
   "metadata": {},
   "outputs": [],
   "source": [
    "import os\n",
    "import tensorflow as tf\n",
    "\n",
    "from tensorflow.keras import datasets, layers, models, utils"
   ]
  },
  {
   "cell_type": "code",
   "execution_count": 57,
   "id": "303a66bf-0713-4573-b88d-ba9166127d60",
   "metadata": {},
   "outputs": [],
   "source": [
    "def fasta_reader(directory):\n",
    "    seqs = []\n",
    "    for file in os.listdir(directory):\n",
    "        seq = ''\n",
    "        filepath = directory + file\n",
    "        #print(file)\n",
    "        f = open(filepath, 'r')\n",
    "        if not file.startswith('.'):\n",
    "            for i in f:\n",
    "                if i[0] == '>':\n",
    "                    if seq != '':\n",
    "                        seqs.append(seq)\n",
    "                        seq = ''\n",
    "                else:\n",
    "                    seq += i.strip()\n",
    "            if seq != '':\n",
    "                seqs.append(seq)\n",
    "    return(seqs)"
   ]
  },
  {
   "cell_type": "code",
   "execution_count": 58,
   "id": "3e046f99-3957-45b1-8ec3-ba809308e5d6",
   "metadata": {},
   "outputs": [],
   "source": [
    "#for file in os.listdir('/Users/samklauer/GitHub/PawseySummer2024/segments/')[0:71]:\n",
    "    #print(file)"
   ]
  },
  {
   "cell_type": "code",
   "execution_count": 59,
   "id": "dc390321-e2be-4787-9f2e-7251c38777c5",
   "metadata": {},
   "outputs": [],
   "source": [
    "segments = fasta_reader('/Users/samklauer/GitHub/PawseySummer2024/segments/')\n",
    "nonseg = fasta_reader('/Users/samklauer/GitHub/PawseySummer2024/NCnonsegmentedsingle/')"
   ]
  },
  {
   "cell_type": "code",
   "execution_count": 60,
   "id": "71da4cb0-57f8-4154-8209-25678b048589",
   "metadata": {},
   "outputs": [
    {
     "data": {
      "text/plain": [
       "4738"
      ]
     },
     "execution_count": 60,
     "metadata": {},
     "output_type": "execute_result"
    }
   ],
   "source": [
    "len(segments)"
   ]
  },
  {
   "cell_type": "code",
   "execution_count": 61,
   "id": "5ef08c70-a007-4157-adb5-41150a479218",
   "metadata": {},
   "outputs": [
    {
     "data": {
      "text/plain": [
       "6569"
      ]
     },
     "execution_count": 61,
     "metadata": {},
     "output_type": "execute_result"
    }
   ],
   "source": [
    "len(nonseg)"
   ]
  },
  {
   "cell_type": "code",
   "execution_count": 62,
   "id": "ed3fdce1-65d8-4213-bfc3-bdccfcdf3dda",
   "metadata": {},
   "outputs": [],
   "source": [
    "encoding = {'A': [1, 0, 0, 0], 'C': [0, 1, 0, 0], 'G': [0, 0, 1, 0], 'T': [0, 0, 0, 1], 'U':[0, 0, 0, 1], 'N':[0,0,0,0]\n",
    "    , 'M':[0,0,0,0], 'R':[0,0,0,0], 'W':[0,0,0,0], 'S':[0,0,0,0], 'Y':[0,0,0,0], 'K':[0,0,0,0], 'V':[0,0,0,0], 'H':[0,0,0,0], 'D':[0,0,0,0],\n",
    "    'B':[0,0,0,0], 'E':[0,0,0,0], 'F':[0,0,0,0], 'I':[0,0,0,0], 'J':[0,0,0,0], 'L':[0,0,0,0], 'O':[0,0,0,0], \n",
    "    'P':[0,0,0,0], 'Q':[0,0,0,0], 'X':[0,0,0,0], 'Z':[0,0,0,0]}"
   ]
  },
  {
   "cell_type": "code",
   "execution_count": 63,
   "id": "28f63a6e-2b4b-4263-a5c0-aeb309507173",
   "metadata": {},
   "outputs": [
    {
     "name": "stdout",
     "output_type": "stream",
     "text": [
      "yep\n"
     ]
    }
   ],
   "source": [
    "ls = ['P', 'help']\n",
    "for i in ls:\n",
    "    if encoding.get(i):\n",
    "        print('yep')"
   ]
  },
  {
   "cell_type": "code",
   "execution_count": 64,
   "id": "1fcc1759-1550-400c-9a9d-653a12ccc101",
   "metadata": {},
   "outputs": [],
   "source": [
    "for i in segments:\n",
    "    if len(i) >20000:\n",
    "        segments.remove(i)"
   ]
  },
  {
   "cell_type": "code",
   "execution_count": 65,
   "id": "b57b3f3c-b3ca-4ddc-90b0-a5b8a2559aaa",
   "metadata": {},
   "outputs": [],
   "source": [
    "def one_hot_encode(sequence):\n",
    "    encoding = {'A': [1, 0, 0, 0], 'C': [0, 1, 0, 0], 'G': [0, 0, 1, 0], 'T': [0, 0, 0, 1], 'U':[0, 0, 0, 1], 'N':[0,0,0,0]\n",
    "    , 'M':[0,0,0,0], 'R':[0,0,0,0], 'W':[0,0,0,0], 'S':[0,0,0,0], 'Y':[0,0,0,0], 'K':[0,0,0,0], 'V':[0,0,0,0], 'H':[0,0,0,0], 'D':[0,0,0,0],\n",
    "    'B':[0,0,0,0], 'E':[0,0,0,0], 'F':[0,0,0,0], 'I':[0,0,0,0], 'J':[0,0,0,0], 'L':[0,0,0,0], 'O':[0,0,0,0], \n",
    "    'P':[0,0,0,0], 'Q':[0,0,0,0], 'X':[0,0,0,0], 'Z':[0,0,0,0]}\n",
    "    encoded_sequence = []\n",
    "\n",
    "    for nucleotide in sequence:\n",
    "        if encoding.get(nucleotide):\n",
    "            encoded_sequence.append(encoding.get(nucleotide))\n",
    "        else:\n",
    "            encoded_sequence.append([0,0,0,0])\n",
    "\n",
    "    feature_length = 20000\n",
    "\n",
    "    while len(encoded_sequence) <20000:\n",
    "        encoded_sequence.append([0,0,0,0])\n",
    "\n",
    "    return encoded_sequence"
   ]
  },
  {
   "cell_type": "code",
   "execution_count": 85,
   "id": "960e36d8-747e-45f7-aa0b-53fa704277fb",
   "metadata": {},
   "outputs": [],
   "source": [
    "one_hot_non = []\n",
    "for i in nonseg:\n",
    "    one_hot_non.append(one_hot_encode(i))"
   ]
  },
  {
   "cell_type": "code",
   "execution_count": 86,
   "id": "b31e937f-1598-46e8-a71e-99901afbf629",
   "metadata": {},
   "outputs": [],
   "source": [
    "one_hot_seg = []\n",
    "for i in segments:\n",
    "    one_hot_seg.append(one_hot_encode(i))"
   ]
  },
  {
   "cell_type": "code",
   "execution_count": 87,
   "id": "e30e245f-9bc3-4692-bb06-2a46f5bc41a8",
   "metadata": {},
   "outputs": [
    {
     "data": {
      "text/plain": [
       "500"
      ]
     },
     "execution_count": 87,
     "metadata": {},
     "output_type": "execute_result"
    }
   ],
   "source": [
    "len(one_hot_seg)"
   ]
  },
  {
   "cell_type": "code",
   "execution_count": 88,
   "id": "6830f870-f4b8-444f-94e5-0ef9b590aa14",
   "metadata": {},
   "outputs": [
    {
     "data": {
      "text/plain": [
       "500"
      ]
     },
     "execution_count": 88,
     "metadata": {},
     "output_type": "execute_result"
    }
   ],
   "source": [
    "len(one_hot_non)"
   ]
  },
  {
   "cell_type": "code",
   "execution_count": 89,
   "id": "b01722c3-3012-4810-a57e-bb1da9bfabee",
   "metadata": {},
   "outputs": [],
   "source": [
    "y = [1] * len(one_hot_seg) + [0] * len(one_hot_non)"
   ]
  },
  {
   "cell_type": "code",
   "execution_count": 90,
   "id": "ab605ef4-9f1e-43f4-a0e7-4f6afc582935",
   "metadata": {},
   "outputs": [],
   "source": [
    "#y"
   ]
  },
  {
   "cell_type": "code",
   "execution_count": 91,
   "id": "262a0c61-4739-4720-b500-7424eb4a0897",
   "metadata": {},
   "outputs": [],
   "source": [
    "X = one_hot_seg + one_hot_non"
   ]
  },
  {
   "cell_type": "code",
   "execution_count": 92,
   "id": "5ddb432a-0152-46ce-9667-33108d03e918",
   "metadata": {},
   "outputs": [
    {
     "data": {
      "text/plain": [
       "1000"
      ]
     },
     "execution_count": 92,
     "metadata": {},
     "output_type": "execute_result"
    }
   ],
   "source": [
    "len(X)"
   ]
  },
  {
   "cell_type": "code",
   "execution_count": 93,
   "id": "b7f6b065-cf19-47f3-b781-6fe6c52eec67",
   "metadata": {},
   "outputs": [],
   "source": [
    "Z = []\n",
    "for i in range(len(y)):\n",
    "    Z.append(X[i])\n",
    "    Z[i].append(y[i])"
   ]
  },
  {
   "cell_type": "code",
   "execution_count": 94,
   "id": "cc649370-5c45-4927-a05f-7ef2e116bfc6",
   "metadata": {},
   "outputs": [],
   "source": [
    "train = []\n",
    "test = []\n",
    "for i in range(int(.8*len(one_hot_seg))):\n",
    "    train.append(Z[i])\n",
    "for i in range(int(.8*len(one_hot_seg)), len(one_hot_seg)):\n",
    "    test.append(Z[i])\n",
    "for i in range(len(one_hot_seg), len(one_hot_seg) + int(.8 * len(one_hot_non))):\n",
    "    train.append(Z[i])\n",
    "for i in range(len(one_hot_seg) + int(.8 * len(one_hot_non)), len(Z)):\n",
    "    test.append(Z[i])"
   ]
  },
  {
   "cell_type": "code",
   "execution_count": 95,
   "id": "d2bcf701-f287-4410-86c2-a6a52846fc55",
   "metadata": {},
   "outputs": [
    {
     "data": {
      "text/plain": [
       "20000"
      ]
     },
     "execution_count": 95,
     "metadata": {},
     "output_type": "execute_result"
    }
   ],
   "source": [
    "len(train[0][0:-1])"
   ]
  },
  {
   "cell_type": "code",
   "execution_count": 96,
   "id": "90d71349-d171-48ab-8b00-18de6775cd81",
   "metadata": {},
   "outputs": [],
   "source": [
    "X_train = []\n",
    "y_train = []\n",
    "for i in train:\n",
    "    X_train.append(i[0:-1])\n",
    "    y_train.append(i[-1])"
   ]
  },
  {
   "cell_type": "code",
   "execution_count": 97,
   "id": "6051960f-63b2-4f20-885a-712dbb6f2cae",
   "metadata": {},
   "outputs": [
    {
     "data": {
      "text/plain": [
       "800"
      ]
     },
     "execution_count": 97,
     "metadata": {},
     "output_type": "execute_result"
    }
   ],
   "source": [
    "len(X_train)"
   ]
  },
  {
   "cell_type": "code",
   "execution_count": 98,
   "id": "e54751a9-848f-4bd9-b7cb-37a0a98e360e",
   "metadata": {},
   "outputs": [],
   "source": [
    "X_test = []\n",
    "y_test = []\n",
    "for i in test:\n",
    "    X_test.append(i[0:-1])\n",
    "    y_test.append(i[-1])"
   ]
  },
  {
   "cell_type": "code",
   "execution_count": 99,
   "id": "138def1f-bfa0-49ab-95ec-aa19de0f3f86",
   "metadata": {},
   "outputs": [],
   "source": [
    "model = models.Sequential()\n",
    "model.add(layers.Conv1D(20, 2, activation='relu', input_shape=(20000,4)))\n",
    "model.add(layers.MaxPooling1D(2))\n",
    "model.add(layers.Conv1D(20, 2, activation='relu'))\n",
    "model.add(layers.MaxPooling1D(2))\n",
    "model.add(layers.Conv1D(20, 2, activation='relu'))\n",
    "model.add(layers.MaxPooling1D())\n",
    "model.add(layers.Flatten())\n",
    "model.add(layers.Dropout(0.5))\n",
    "model.add(layers.Dense(1, activation=\"sigmoid\"))"
   ]
  },
  {
   "cell_type": "code",
   "execution_count": 100,
   "id": "b2703e06-e436-4897-a8d1-a108ea5c3a1f",
   "metadata": {},
   "outputs": [
    {
     "name": "stdout",
     "output_type": "stream",
     "text": [
      "Model: \"sequential_3\"\n",
      "_________________________________________________________________\n",
      " Layer (type)                Output Shape              Param #   \n",
      "=================================================================\n",
      " conv1d_9 (Conv1D)           (None, 19999, 20)         180       \n",
      "                                                                 \n",
      " max_pooling1d_9 (MaxPooling  (None, 9999, 20)         0         \n",
      " 1D)                                                             \n",
      "                                                                 \n",
      " conv1d_10 (Conv1D)          (None, 9998, 20)          820       \n",
      "                                                                 \n",
      " max_pooling1d_10 (MaxPoolin  (None, 4999, 20)         0         \n",
      " g1D)                                                            \n",
      "                                                                 \n",
      " conv1d_11 (Conv1D)          (None, 4998, 20)          820       \n",
      "                                                                 \n",
      " max_pooling1d_11 (MaxPoolin  (None, 2499, 20)         0         \n",
      " g1D)                                                            \n",
      "                                                                 \n",
      " flatten_3 (Flatten)         (None, 49980)             0         \n",
      "                                                                 \n",
      " dropout_3 (Dropout)         (None, 49980)             0         \n",
      "                                                                 \n",
      " dense_3 (Dense)             (None, 1)                 49981     \n",
      "                                                                 \n",
      "=================================================================\n",
      "Total params: 51,801\n",
      "Trainable params: 51,801\n",
      "Non-trainable params: 0\n",
      "_________________________________________________________________\n"
     ]
    }
   ],
   "source": [
    "model.summary()"
   ]
  },
  {
   "cell_type": "code",
   "execution_count": 101,
   "id": "bb15a052-d7d3-4a6f-8b55-7db8799308a6",
   "metadata": {},
   "outputs": [],
   "source": [
    "model.compile(optimizer='adam',\n",
    "              loss=tf.keras.losses.BinaryCrossentropy(from_logits=True),\n",
    "              metrics=['accuracy'])"
   ]
  },
  {
   "cell_type": "code",
   "execution_count": 102,
   "id": "c7b84505-ef5b-4325-bd02-e0eb656c69d4",
   "metadata": {},
   "outputs": [
    {
     "name": "stdout",
     "output_type": "stream",
     "text": [
      "Epoch 1/10\n",
      "25/25 [==============================] - 7s 256ms/step - loss: 0.6127 - accuracy: 0.6425\n",
      "Epoch 2/10\n",
      "25/25 [==============================] - 6s 256ms/step - loss: 0.5337 - accuracy: 0.7212\n",
      "Epoch 3/10\n",
      "25/25 [==============================] - 7s 260ms/step - loss: 0.5097 - accuracy: 0.7425\n",
      "Epoch 4/10\n",
      "25/25 [==============================] - 7s 261ms/step - loss: 0.4472 - accuracy: 0.7950\n",
      "Epoch 5/10\n",
      "25/25 [==============================] - 6s 257ms/step - loss: 0.4189 - accuracy: 0.7962\n",
      "Epoch 6/10\n",
      "25/25 [==============================] - 7s 260ms/step - loss: 0.3639 - accuracy: 0.8425\n",
      "Epoch 7/10\n",
      "25/25 [==============================] - 7s 263ms/step - loss: 0.3348 - accuracy: 0.8637\n",
      "Epoch 8/10\n",
      "25/25 [==============================] - 7s 261ms/step - loss: 0.2767 - accuracy: 0.9038\n",
      "Epoch 9/10\n",
      "25/25 [==============================] - 7s 263ms/step - loss: 0.2590 - accuracy: 0.9025\n",
      "Epoch 10/10\n",
      "25/25 [==============================] - 7s 273ms/step - loss: 0.2340 - accuracy: 0.9212\n"
     ]
    },
    {
     "data": {
      "text/plain": [
       "<keras.callbacks.History at 0x7fe047d5e160>"
      ]
     },
     "execution_count": 102,
     "metadata": {},
     "output_type": "execute_result"
    }
   ],
   "source": [
    "model.fit(X_train, y_train, epochs=10)"
   ]
  },
  {
   "cell_type": "code",
   "execution_count": 103,
   "id": "5c9eaad8-756d-45f8-be48-48f07263d333",
   "metadata": {},
   "outputs": [
    {
     "name": "stdout",
     "output_type": "stream",
     "text": [
      "7/7 [==============================] - 1s 53ms/step - loss: 0.4602 - accuracy: 0.7800\n"
     ]
    }
   ],
   "source": [
    "test_loss, test_acc = model.evaluate(X_test, y_test)"
   ]
  },
  {
   "cell_type": "code",
   "execution_count": 53,
   "id": "68c16a17-49d4-40a4-b8f6-e4fa936dfbc5",
   "metadata": {},
   "outputs": [
    {
     "name": "stdout",
     "output_type": "stream",
     "text": [
      "Model: \"sequential_1\"\n",
      "_________________________________________________________________\n",
      " Layer (type)                Output Shape              Param #   \n",
      "=================================================================\n",
      " conv1d_3 (Conv1D)           (None, 19999, 20)         180       \n",
      "                                                                 \n",
      " max_pooling1d_3 (MaxPooling  (None, 9999, 20)         0         \n",
      " 1D)                                                             \n",
      "                                                                 \n",
      " conv1d_4 (Conv1D)           (None, 9998, 20)          820       \n",
      "                                                                 \n",
      " max_pooling1d_4 (MaxPooling  (None, 4999, 20)         0         \n",
      " 1D)                                                             \n",
      "                                                                 \n",
      " conv1d_5 (Conv1D)           (None, 4998, 20)          820       \n",
      "                                                                 \n",
      " max_pooling1d_5 (MaxPooling  (None, 2499, 20)         0         \n",
      " 1D)                                                             \n",
      "                                                                 \n",
      " flatten_1 (Flatten)         (None, 49980)             0         \n",
      "                                                                 \n",
      " dropout_1 (Dropout)         (None, 49980)             0         \n",
      "                                                                 \n",
      " dense_1 (Dense)             (None, 1)                 49981     \n",
      "                                                                 \n",
      "=================================================================\n",
      "Total params: 51,801\n",
      "Trainable params: 51,801\n",
      "Non-trainable params: 0\n",
      "_________________________________________________________________\n"
     ]
    }
   ],
   "source": [
    "model.summary()"
   ]
  },
  {
   "cell_type": "code",
   "execution_count": 54,
   "id": "0070e50f-1765-4b47-9091-7dae1b57cf0c",
   "metadata": {},
   "outputs": [],
   "source": [
    "batch_sizes = [64, 128, 256]\n",
    "learning_rates = [1e-3, 1e-4, 1e-5]\n",
    "epochs = [5, 10, 15]"
   ]
  },
  {
   "cell_type": "code",
   "execution_count": 55,
   "id": "b4d9d0cb-9c58-4e6c-90e7-f11a0188c014",
   "metadata": {},
   "outputs": [
    {
     "name": "stdout",
     "output_type": "stream",
     "text": [
      "Epoch 1/5\n",
      "2/2 [==============================] - 1s 155ms/step - loss: 0.3392 - accuracy: 0.8875\n",
      "Epoch 2/5\n",
      "2/2 [==============================] - 1s 166ms/step - loss: 0.3307 - accuracy: 0.8625\n",
      "Epoch 3/5\n",
      "2/2 [==============================] - 1s 154ms/step - loss: 0.2868 - accuracy: 0.9250\n",
      "Epoch 4/5\n",
      "2/2 [==============================] - 1s 150ms/step - loss: 0.2827 - accuracy: 0.9250\n",
      "Epoch 5/5\n",
      "2/2 [==============================] - 1s 153ms/step - loss: 0.2730 - accuracy: 0.8750\n",
      "1/1 [==============================] - 0s 206ms/step - loss: 0.8925 - accuracy: 0.6000\n",
      "Epoch 1/10\n",
      "2/2 [==============================] - 1s 155ms/step - loss: 0.2758 - accuracy: 0.8750\n",
      "Epoch 2/10\n",
      "2/2 [==============================] - 1s 153ms/step - loss: 0.2432 - accuracy: 0.9250\n",
      "Epoch 3/10\n",
      "2/2 [==============================] - 1s 165ms/step - loss: 0.2869 - accuracy: 0.8500\n",
      "Epoch 4/10\n",
      "2/2 [==============================] - 1s 152ms/step - loss: 0.2274 - accuracy: 0.9125\n",
      "Epoch 5/10\n",
      "2/2 [==============================] - 1s 149ms/step - loss: 0.2176 - accuracy: 0.9750\n",
      "Epoch 6/10\n",
      "2/2 [==============================] - 1s 157ms/step - loss: 0.2178 - accuracy: 0.9750\n",
      "Epoch 7/10\n",
      "2/2 [==============================] - 1s 154ms/step - loss: 0.1834 - accuracy: 0.9875\n",
      "Epoch 8/10\n",
      "2/2 [==============================] - 1s 165ms/step - loss: 0.1852 - accuracy: 0.9375\n",
      "Epoch 9/10\n",
      "2/2 [==============================] - 1s 158ms/step - loss: 0.1752 - accuracy: 0.9500\n",
      "Epoch 10/10\n",
      "2/2 [==============================] - 1s 155ms/step - loss: 0.1502 - accuracy: 0.9750\n",
      "1/1 [==============================] - 0s 200ms/step - loss: 1.2174 - accuracy: 0.6500\n",
      "Epoch 1/15\n",
      "2/2 [==============================] - 1s 168ms/step - loss: 0.1705 - accuracy: 0.9875\n",
      "Epoch 2/15\n",
      "2/2 [==============================] - 1s 166ms/step - loss: 0.1336 - accuracy: 1.0000\n",
      "Epoch 3/15\n",
      "2/2 [==============================] - 1s 157ms/step - loss: 0.1724 - accuracy: 0.9750\n",
      "Epoch 4/15\n",
      "2/2 [==============================] - 1s 156ms/step - loss: 0.1343 - accuracy: 1.0000\n",
      "Epoch 5/15\n",
      "2/2 [==============================] - 1s 160ms/step - loss: 0.1418 - accuracy: 0.9625\n",
      "Epoch 6/15\n",
      "2/2 [==============================] - 1s 165ms/step - loss: 0.1244 - accuracy: 0.9750\n",
      "Epoch 7/15\n",
      "2/2 [==============================] - 1s 153ms/step - loss: 0.0948 - accuracy: 1.0000\n",
      "Epoch 8/15\n",
      "2/2 [==============================] - 1s 161ms/step - loss: 0.1000 - accuracy: 1.0000\n",
      "Epoch 9/15\n",
      "2/2 [==============================] - 1s 157ms/step - loss: 0.0951 - accuracy: 1.0000\n",
      "Epoch 10/15\n",
      "2/2 [==============================] - 1s 160ms/step - loss: 0.0798 - accuracy: 1.0000\n",
      "Epoch 11/15\n",
      "2/2 [==============================] - 1s 157ms/step - loss: 0.0827 - accuracy: 0.9875\n",
      "Epoch 12/15\n",
      "2/2 [==============================] - 1s 150ms/step - loss: 0.0686 - accuracy: 1.0000\n",
      "Epoch 13/15\n",
      "2/2 [==============================] - 1s 169ms/step - loss: 0.0638 - accuracy: 1.0000\n",
      "Epoch 14/15\n",
      "2/2 [==============================] - 1s 159ms/step - loss: 0.0630 - accuracy: 1.0000\n",
      "Epoch 15/15\n",
      "2/2 [==============================] - 1s 150ms/step - loss: 0.0538 - accuracy: 1.0000\n",
      "1/1 [==============================] - 0s 193ms/step - loss: 1.6666 - accuracy: 0.6500\n",
      "Epoch 1/5\n",
      "2/2 [==============================] - 1s 157ms/step - loss: 0.0478 - accuracy: 1.0000\n",
      "Epoch 2/5\n",
      "2/2 [==============================] - 1s 150ms/step - loss: 0.0430 - accuracy: 1.0000\n",
      "Epoch 3/5\n",
      "2/2 [==============================] - 1s 160ms/step - loss: 0.0473 - accuracy: 1.0000\n",
      "Epoch 4/5\n",
      "2/2 [==============================] - 1s 174ms/step - loss: 0.0490 - accuracy: 1.0000\n",
      "Epoch 5/5\n",
      "2/2 [==============================] - 1s 157ms/step - loss: 0.0447 - accuracy: 1.0000\n",
      "WARNING:tensorflow:5 out of the last 5 calls to <function Model.make_test_function.<locals>.test_function at 0x7fdfd0b13160> triggered tf.function retracing. Tracing is expensive and the excessive number of tracings could be due to (1) creating @tf.function repeatedly in a loop, (2) passing tensors with different shapes, (3) passing Python objects instead of tensors. For (1), please define your @tf.function outside of the loop. For (2), @tf.function has experimental_relax_shapes=True option that relaxes argument shapes that can avoid unnecessary retracing. For (3), please refer to https://www.tensorflow.org/guide/function#controlling_retracing and https://www.tensorflow.org/api_docs/python/tf/function for  more details.\n",
      "1/1 [==============================] - 0s 192ms/step - loss: 1.7629 - accuracy: 0.6500\n",
      "Epoch 1/10\n",
      "2/2 [==============================] - 1s 180ms/step - loss: 0.0432 - accuracy: 1.0000\n",
      "Epoch 2/10\n",
      "2/2 [==============================] - 1s 202ms/step - loss: 0.0427 - accuracy: 1.0000\n",
      "Epoch 3/10\n",
      "2/2 [==============================] - 1s 175ms/step - loss: 0.0372 - accuracy: 1.0000\n",
      "Epoch 4/10\n",
      "2/2 [==============================] - 1s 154ms/step - loss: 0.0351 - accuracy: 1.0000\n",
      "Epoch 5/10\n",
      "2/2 [==============================] - 1s 155ms/step - loss: 0.0440 - accuracy: 1.0000\n",
      "Epoch 6/10\n",
      "2/2 [==============================] - 1s 157ms/step - loss: 0.0472 - accuracy: 1.0000\n",
      "Epoch 7/10\n",
      "2/2 [==============================] - 1s 185ms/step - loss: 0.0424 - accuracy: 1.0000\n",
      "Epoch 8/10\n",
      "2/2 [==============================] - 1s 161ms/step - loss: 0.0427 - accuracy: 1.0000\n",
      "Epoch 9/10\n",
      "2/2 [==============================] - 1s 162ms/step - loss: 0.0393 - accuracy: 1.0000\n",
      "Epoch 10/10\n",
      "2/2 [==============================] - 1s 153ms/step - loss: 0.0447 - accuracy: 1.0000\n",
      "WARNING:tensorflow:6 out of the last 6 calls to <function Model.make_test_function.<locals>.test_function at 0x7fdfd4240af0> triggered tf.function retracing. Tracing is expensive and the excessive number of tracings could be due to (1) creating @tf.function repeatedly in a loop, (2) passing tensors with different shapes, (3) passing Python objects instead of tensors. For (1), please define your @tf.function outside of the loop. For (2), @tf.function has experimental_relax_shapes=True option that relaxes argument shapes that can avoid unnecessary retracing. For (3), please refer to https://www.tensorflow.org/guide/function#controlling_retracing and https://www.tensorflow.org/api_docs/python/tf/function for  more details.\n",
      "1/1 [==============================] - 0s 189ms/step - loss: 1.8755 - accuracy: 0.6500\n"
     ]
    },
    {
     "ename": "KeyboardInterrupt",
     "evalue": "",
     "output_type": "error",
     "traceback": [
      "\u001b[0;31m---------------------------------------------------------------------------\u001b[0m",
      "\u001b[0;31mKeyboardInterrupt\u001b[0m                         Traceback (most recent call last)",
      "Cell \u001b[0;32mIn[55], line 10\u001b[0m\n\u001b[1;32m      4\u001b[0m \u001b[38;5;28;01mfor\u001b[39;00m k \u001b[38;5;129;01min\u001b[39;00m epochs:\n\u001b[1;32m      6\u001b[0m     model\u001b[38;5;241m.\u001b[39mcompile(optimizer\u001b[38;5;241m=\u001b[39mtf\u001b[38;5;241m.\u001b[39mkeras\u001b[38;5;241m.\u001b[39moptimizers\u001b[38;5;241m.\u001b[39mAdam(learning_rate \u001b[38;5;241m=\u001b[39m j),\n\u001b[1;32m      7\u001b[0m       loss\u001b[38;5;241m=\u001b[39mtf\u001b[38;5;241m.\u001b[39mkeras\u001b[38;5;241m.\u001b[39mlosses\u001b[38;5;241m.\u001b[39mBinaryCrossentropy(from_logits\u001b[38;5;241m=\u001b[39m\u001b[38;5;28;01mTrue\u001b[39;00m),\n\u001b[1;32m      8\u001b[0m       metrics\u001b[38;5;241m=\u001b[39m[\u001b[38;5;124m'\u001b[39m\u001b[38;5;124maccuracy\u001b[39m\u001b[38;5;124m'\u001b[39m])\n\u001b[0;32m---> 10\u001b[0m     \u001b[43mmodel\u001b[49m\u001b[38;5;241;43m.\u001b[39;49m\u001b[43mfit\u001b[49m\u001b[43m(\u001b[49m\u001b[43mX_train\u001b[49m\u001b[43m,\u001b[49m\u001b[43m \u001b[49m\u001b[43my_train\u001b[49m\u001b[43m,\u001b[49m\u001b[43m \u001b[49m\u001b[43mbatch_size\u001b[49m\u001b[43m \u001b[49m\u001b[38;5;241;43m=\u001b[39;49m\u001b[43m \u001b[49m\u001b[43mi\u001b[49m\u001b[43m,\u001b[49m\u001b[43m \u001b[49m\u001b[43mepochs\u001b[49m\u001b[38;5;241;43m=\u001b[39;49m\u001b[43mk\u001b[49m\u001b[43m,\u001b[49m\u001b[43mshuffle\u001b[49m\u001b[43m \u001b[49m\u001b[38;5;241;43m=\u001b[39;49m\u001b[43m \u001b[49m\u001b[38;5;28;43;01mTrue\u001b[39;49;00m\u001b[43m)\u001b[49m\n\u001b[1;32m     12\u001b[0m     test_loss, test_acc \u001b[38;5;241m=\u001b[39m model\u001b[38;5;241m.\u001b[39mevaluate(X_test, y_test)\n\u001b[1;32m     14\u001b[0m     ls5\u001b[38;5;241m.\u001b[39mappend([i, j, test_loss, test_acc])\n",
      "File \u001b[0;32m/opt/anaconda3/lib/python3.8/site-packages/keras/utils/traceback_utils.py:64\u001b[0m, in \u001b[0;36mfilter_traceback.<locals>.error_handler\u001b[0;34m(*args, **kwargs)\u001b[0m\n\u001b[1;32m     62\u001b[0m filtered_tb \u001b[38;5;241m=\u001b[39m \u001b[38;5;28;01mNone\u001b[39;00m\n\u001b[1;32m     63\u001b[0m \u001b[38;5;28;01mtry\u001b[39;00m:\n\u001b[0;32m---> 64\u001b[0m   \u001b[38;5;28;01mreturn\u001b[39;00m \u001b[43mfn\u001b[49m\u001b[43m(\u001b[49m\u001b[38;5;241;43m*\u001b[39;49m\u001b[43margs\u001b[49m\u001b[43m,\u001b[49m\u001b[43m \u001b[49m\u001b[38;5;241;43m*\u001b[39;49m\u001b[38;5;241;43m*\u001b[39;49m\u001b[43mkwargs\u001b[49m\u001b[43m)\u001b[49m\n\u001b[1;32m     65\u001b[0m \u001b[38;5;28;01mexcept\u001b[39;00m \u001b[38;5;167;01mException\u001b[39;00m \u001b[38;5;28;01mas\u001b[39;00m e:  \u001b[38;5;66;03m# pylint: disable=broad-except\u001b[39;00m\n\u001b[1;32m     66\u001b[0m   filtered_tb \u001b[38;5;241m=\u001b[39m _process_traceback_frames(e\u001b[38;5;241m.\u001b[39m__traceback__)\n",
      "File \u001b[0;32m/opt/anaconda3/lib/python3.8/site-packages/keras/engine/training.py:1166\u001b[0m, in \u001b[0;36mModel.fit\u001b[0;34m(self, x, y, batch_size, epochs, verbose, callbacks, validation_split, validation_data, shuffle, class_weight, sample_weight, initial_epoch, steps_per_epoch, validation_steps, validation_batch_size, validation_freq, max_queue_size, workers, use_multiprocessing)\u001b[0m\n\u001b[1;32m   1160\u001b[0m   \u001b[38;5;28mself\u001b[39m\u001b[38;5;241m.\u001b[39m_cluster_coordinator \u001b[38;5;241m=\u001b[39m tf\u001b[38;5;241m.\u001b[39mdistribute\u001b[38;5;241m.\u001b[39mexperimental\u001b[38;5;241m.\u001b[39mcoordinator\u001b[38;5;241m.\u001b[39mClusterCoordinator(\n\u001b[1;32m   1161\u001b[0m       \u001b[38;5;28mself\u001b[39m\u001b[38;5;241m.\u001b[39mdistribute_strategy)\n\u001b[1;32m   1163\u001b[0m \u001b[38;5;28;01mwith\u001b[39;00m \u001b[38;5;28mself\u001b[39m\u001b[38;5;241m.\u001b[39mdistribute_strategy\u001b[38;5;241m.\u001b[39mscope(), \\\n\u001b[1;32m   1164\u001b[0m      training_utils\u001b[38;5;241m.\u001b[39mRespectCompiledTrainableState(\u001b[38;5;28mself\u001b[39m):\n\u001b[1;32m   1165\u001b[0m   \u001b[38;5;66;03m# Creates a `tf.data.Dataset` and handles batch and epoch iteration.\u001b[39;00m\n\u001b[0;32m-> 1166\u001b[0m   data_handler \u001b[38;5;241m=\u001b[39m \u001b[43mdata_adapter\u001b[49m\u001b[38;5;241;43m.\u001b[39;49m\u001b[43mget_data_handler\u001b[49m\u001b[43m(\u001b[49m\n\u001b[1;32m   1167\u001b[0m \u001b[43m      \u001b[49m\u001b[43mx\u001b[49m\u001b[38;5;241;43m=\u001b[39;49m\u001b[43mx\u001b[49m\u001b[43m,\u001b[49m\n\u001b[1;32m   1168\u001b[0m \u001b[43m      \u001b[49m\u001b[43my\u001b[49m\u001b[38;5;241;43m=\u001b[39;49m\u001b[43my\u001b[49m\u001b[43m,\u001b[49m\n\u001b[1;32m   1169\u001b[0m \u001b[43m      \u001b[49m\u001b[43msample_weight\u001b[49m\u001b[38;5;241;43m=\u001b[39;49m\u001b[43msample_weight\u001b[49m\u001b[43m,\u001b[49m\n\u001b[1;32m   1170\u001b[0m \u001b[43m      \u001b[49m\u001b[43mbatch_size\u001b[49m\u001b[38;5;241;43m=\u001b[39;49m\u001b[43mbatch_size\u001b[49m\u001b[43m,\u001b[49m\n\u001b[1;32m   1171\u001b[0m \u001b[43m      \u001b[49m\u001b[43msteps_per_epoch\u001b[49m\u001b[38;5;241;43m=\u001b[39;49m\u001b[43msteps_per_epoch\u001b[49m\u001b[43m,\u001b[49m\n\u001b[1;32m   1172\u001b[0m \u001b[43m      \u001b[49m\u001b[43minitial_epoch\u001b[49m\u001b[38;5;241;43m=\u001b[39;49m\u001b[43minitial_epoch\u001b[49m\u001b[43m,\u001b[49m\n\u001b[1;32m   1173\u001b[0m \u001b[43m      \u001b[49m\u001b[43mepochs\u001b[49m\u001b[38;5;241;43m=\u001b[39;49m\u001b[43mepochs\u001b[49m\u001b[43m,\u001b[49m\n\u001b[1;32m   1174\u001b[0m \u001b[43m      \u001b[49m\u001b[43mshuffle\u001b[49m\u001b[38;5;241;43m=\u001b[39;49m\u001b[43mshuffle\u001b[49m\u001b[43m,\u001b[49m\n\u001b[1;32m   1175\u001b[0m \u001b[43m      \u001b[49m\u001b[43mclass_weight\u001b[49m\u001b[38;5;241;43m=\u001b[39;49m\u001b[43mclass_weight\u001b[49m\u001b[43m,\u001b[49m\n\u001b[1;32m   1176\u001b[0m \u001b[43m      \u001b[49m\u001b[43mmax_queue_size\u001b[49m\u001b[38;5;241;43m=\u001b[39;49m\u001b[43mmax_queue_size\u001b[49m\u001b[43m,\u001b[49m\n\u001b[1;32m   1177\u001b[0m \u001b[43m      \u001b[49m\u001b[43mworkers\u001b[49m\u001b[38;5;241;43m=\u001b[39;49m\u001b[43mworkers\u001b[49m\u001b[43m,\u001b[49m\n\u001b[1;32m   1178\u001b[0m \u001b[43m      \u001b[49m\u001b[43muse_multiprocessing\u001b[49m\u001b[38;5;241;43m=\u001b[39;49m\u001b[43muse_multiprocessing\u001b[49m\u001b[43m,\u001b[49m\n\u001b[1;32m   1179\u001b[0m \u001b[43m      \u001b[49m\u001b[43mmodel\u001b[49m\u001b[38;5;241;43m=\u001b[39;49m\u001b[38;5;28;43mself\u001b[39;49m\u001b[43m,\u001b[49m\n\u001b[1;32m   1180\u001b[0m \u001b[43m      \u001b[49m\u001b[43msteps_per_execution\u001b[49m\u001b[38;5;241;43m=\u001b[39;49m\u001b[38;5;28;43mself\u001b[39;49m\u001b[38;5;241;43m.\u001b[39;49m\u001b[43m_steps_per_execution\u001b[49m\u001b[43m)\u001b[49m\n\u001b[1;32m   1182\u001b[0m   \u001b[38;5;66;03m# Container that configures and calls `tf.keras.Callback`s.\u001b[39;00m\n\u001b[1;32m   1183\u001b[0m   \u001b[38;5;28;01mif\u001b[39;00m \u001b[38;5;129;01mnot\u001b[39;00m \u001b[38;5;28misinstance\u001b[39m(callbacks, callbacks_module\u001b[38;5;241m.\u001b[39mCallbackList):\n",
      "File \u001b[0;32m/opt/anaconda3/lib/python3.8/site-packages/keras/engine/data_adapter.py:1403\u001b[0m, in \u001b[0;36mget_data_handler\u001b[0;34m(*args, **kwargs)\u001b[0m\n\u001b[1;32m   1401\u001b[0m \u001b[38;5;28;01mif\u001b[39;00m \u001b[38;5;28mgetattr\u001b[39m(kwargs[\u001b[38;5;124m\"\u001b[39m\u001b[38;5;124mmodel\u001b[39m\u001b[38;5;124m\"\u001b[39m], \u001b[38;5;124m\"\u001b[39m\u001b[38;5;124m_cluster_coordinator\u001b[39m\u001b[38;5;124m\"\u001b[39m, \u001b[38;5;28;01mNone\u001b[39;00m):\n\u001b[1;32m   1402\u001b[0m   \u001b[38;5;28;01mreturn\u001b[39;00m _ClusterCoordinatorDataHandler(\u001b[38;5;241m*\u001b[39margs, \u001b[38;5;241m*\u001b[39m\u001b[38;5;241m*\u001b[39mkwargs)\n\u001b[0;32m-> 1403\u001b[0m \u001b[38;5;28;01mreturn\u001b[39;00m \u001b[43mDataHandler\u001b[49m\u001b[43m(\u001b[49m\u001b[38;5;241;43m*\u001b[39;49m\u001b[43margs\u001b[49m\u001b[43m,\u001b[49m\u001b[43m \u001b[49m\u001b[38;5;241;43m*\u001b[39;49m\u001b[38;5;241;43m*\u001b[39;49m\u001b[43mkwargs\u001b[49m\u001b[43m)\u001b[49m\n",
      "File \u001b[0;32m/opt/anaconda3/lib/python3.8/site-packages/keras/engine/data_adapter.py:1152\u001b[0m, in \u001b[0;36mDataHandler.__init__\u001b[0;34m(self, x, y, sample_weight, batch_size, steps_per_epoch, initial_epoch, epochs, shuffle, class_weight, max_queue_size, workers, use_multiprocessing, model, steps_per_execution, distribute)\u001b[0m\n\u001b[1;32m   1149\u001b[0m \u001b[38;5;28;01melse\u001b[39;00m:\n\u001b[1;32m   1150\u001b[0m   \u001b[38;5;28mself\u001b[39m\u001b[38;5;241m.\u001b[39m_steps_per_execution \u001b[38;5;241m=\u001b[39m steps_per_execution\n\u001b[0;32m-> 1152\u001b[0m adapter_cls \u001b[38;5;241m=\u001b[39m \u001b[43mselect_data_adapter\u001b[49m\u001b[43m(\u001b[49m\u001b[43mx\u001b[49m\u001b[43m,\u001b[49m\u001b[43m \u001b[49m\u001b[43my\u001b[49m\u001b[43m)\u001b[49m\n\u001b[1;32m   1153\u001b[0m \u001b[38;5;28mself\u001b[39m\u001b[38;5;241m.\u001b[39m_adapter \u001b[38;5;241m=\u001b[39m adapter_cls(\n\u001b[1;32m   1154\u001b[0m     x,\n\u001b[1;32m   1155\u001b[0m     y,\n\u001b[0;32m   (...)\u001b[0m\n\u001b[1;32m   1164\u001b[0m     distribution_strategy\u001b[38;5;241m=\u001b[39mtf\u001b[38;5;241m.\u001b[39mdistribute\u001b[38;5;241m.\u001b[39mget_strategy(),\n\u001b[1;32m   1165\u001b[0m     model\u001b[38;5;241m=\u001b[39mmodel)\n\u001b[1;32m   1167\u001b[0m strategy \u001b[38;5;241m=\u001b[39m tf\u001b[38;5;241m.\u001b[39mdistribute\u001b[38;5;241m.\u001b[39mget_strategy()\n",
      "File \u001b[0;32m/opt/anaconda3/lib/python3.8/site-packages/keras/engine/data_adapter.py:985\u001b[0m, in \u001b[0;36mselect_data_adapter\u001b[0;34m(x, y)\u001b[0m\n\u001b[1;32m    983\u001b[0m \u001b[38;5;28;01mdef\u001b[39;00m \u001b[38;5;21mselect_data_adapter\u001b[39m(x, y):\n\u001b[1;32m    984\u001b[0m \u001b[38;5;250m  \u001b[39m\u001b[38;5;124;03m\"\"\"Selects a data adapter than can handle a given x and y.\"\"\"\u001b[39;00m\n\u001b[0;32m--> 985\u001b[0m   adapter_cls \u001b[38;5;241m=\u001b[39m [\u001b[38;5;28mcls\u001b[39m \u001b[38;5;28;01mfor\u001b[39;00m \u001b[38;5;28mcls\u001b[39m \u001b[38;5;129;01min\u001b[39;00m ALL_ADAPTER_CLS \u001b[38;5;28;01mif\u001b[39;00m \u001b[38;5;28mcls\u001b[39m\u001b[38;5;241m.\u001b[39mcan_handle(x, y)]\n\u001b[1;32m    986\u001b[0m   \u001b[38;5;28;01mif\u001b[39;00m \u001b[38;5;129;01mnot\u001b[39;00m adapter_cls:\n\u001b[1;32m    987\u001b[0m     \u001b[38;5;66;03m# TODO(scottzhu): This should be a less implementation-specific error.\u001b[39;00m\n\u001b[1;32m    988\u001b[0m     \u001b[38;5;28;01mraise\u001b[39;00m \u001b[38;5;167;01mValueError\u001b[39;00m(\n\u001b[1;32m    989\u001b[0m         \u001b[38;5;124m\"\u001b[39m\u001b[38;5;124mFailed to find data adapter that can handle \u001b[39m\u001b[38;5;124m\"\u001b[39m\n\u001b[1;32m    990\u001b[0m         \u001b[38;5;124m\"\u001b[39m\u001b[38;5;124minput: \u001b[39m\u001b[38;5;132;01m{}\u001b[39;00m\u001b[38;5;124m, \u001b[39m\u001b[38;5;132;01m{}\u001b[39;00m\u001b[38;5;124m\"\u001b[39m\u001b[38;5;241m.\u001b[39mformat(\n\u001b[1;32m    991\u001b[0m             _type_name(x), _type_name(y)))\n",
      "File \u001b[0;32m/opt/anaconda3/lib/python3.8/site-packages/keras/engine/data_adapter.py:985\u001b[0m, in \u001b[0;36m<listcomp>\u001b[0;34m(.0)\u001b[0m\n\u001b[1;32m    983\u001b[0m \u001b[38;5;28;01mdef\u001b[39;00m \u001b[38;5;21mselect_data_adapter\u001b[39m(x, y):\n\u001b[1;32m    984\u001b[0m \u001b[38;5;250m  \u001b[39m\u001b[38;5;124;03m\"\"\"Selects a data adapter than can handle a given x and y.\"\"\"\u001b[39;00m\n\u001b[0;32m--> 985\u001b[0m   adapter_cls \u001b[38;5;241m=\u001b[39m [\u001b[38;5;28mcls\u001b[39m \u001b[38;5;28;01mfor\u001b[39;00m \u001b[38;5;28mcls\u001b[39m \u001b[38;5;129;01min\u001b[39;00m ALL_ADAPTER_CLS \u001b[38;5;28;01mif\u001b[39;00m \u001b[38;5;28;43mcls\u001b[39;49m\u001b[38;5;241;43m.\u001b[39;49m\u001b[43mcan_handle\u001b[49m\u001b[43m(\u001b[49m\u001b[43mx\u001b[49m\u001b[43m,\u001b[49m\u001b[43m \u001b[49m\u001b[43my\u001b[49m\u001b[43m)\u001b[49m]\n\u001b[1;32m    986\u001b[0m   \u001b[38;5;28;01mif\u001b[39;00m \u001b[38;5;129;01mnot\u001b[39;00m adapter_cls:\n\u001b[1;32m    987\u001b[0m     \u001b[38;5;66;03m# TODO(scottzhu): This should be a less implementation-specific error.\u001b[39;00m\n\u001b[1;32m    988\u001b[0m     \u001b[38;5;28;01mraise\u001b[39;00m \u001b[38;5;167;01mValueError\u001b[39;00m(\n\u001b[1;32m    989\u001b[0m         \u001b[38;5;124m\"\u001b[39m\u001b[38;5;124mFailed to find data adapter that can handle \u001b[39m\u001b[38;5;124m\"\u001b[39m\n\u001b[1;32m    990\u001b[0m         \u001b[38;5;124m\"\u001b[39m\u001b[38;5;124minput: \u001b[39m\u001b[38;5;132;01m{}\u001b[39;00m\u001b[38;5;124m, \u001b[39m\u001b[38;5;132;01m{}\u001b[39;00m\u001b[38;5;124m\"\u001b[39m\u001b[38;5;241m.\u001b[39mformat(\n\u001b[1;32m    991\u001b[0m             _type_name(x), _type_name(y)))\n",
      "File \u001b[0;32m/opt/anaconda3/lib/python3.8/site-packages/keras/engine/data_adapter.py:413\u001b[0m, in \u001b[0;36mGenericArrayLikeDataAdapter.can_handle\u001b[0;34m(x, y)\u001b[0m\n\u001b[1;32m    411\u001b[0m \u001b[38;5;129m@staticmethod\u001b[39m\n\u001b[1;32m    412\u001b[0m \u001b[38;5;28;01mdef\u001b[39;00m \u001b[38;5;21mcan_handle\u001b[39m(x, y\u001b[38;5;241m=\u001b[39m\u001b[38;5;28;01mNone\u001b[39;00m):\n\u001b[0;32m--> 413\u001b[0m   flat_inputs \u001b[38;5;241m=\u001b[39m \u001b[43mtf\u001b[49m\u001b[38;5;241;43m.\u001b[39;49m\u001b[43mnest\u001b[49m\u001b[38;5;241;43m.\u001b[39;49m\u001b[43mflatten\u001b[49m\u001b[43m(\u001b[49m\u001b[43mx\u001b[49m\u001b[43m)\u001b[49m\n\u001b[1;32m    414\u001b[0m   \u001b[38;5;28;01mif\u001b[39;00m y \u001b[38;5;129;01mis\u001b[39;00m \u001b[38;5;129;01mnot\u001b[39;00m \u001b[38;5;28;01mNone\u001b[39;00m:\n\u001b[1;32m    415\u001b[0m     flat_inputs \u001b[38;5;241m+\u001b[39m\u001b[38;5;241m=\u001b[39m tf\u001b[38;5;241m.\u001b[39mnest\u001b[38;5;241m.\u001b[39mflatten(y)\n",
      "File \u001b[0;32m/opt/anaconda3/lib/python3.8/site-packages/tensorflow/python/util/nest.py:417\u001b[0m, in \u001b[0;36mflatten\u001b[0;34m(structure, expand_composites)\u001b[0m\n\u001b[1;32m    415\u001b[0m   \u001b[38;5;28;01mreturn\u001b[39;00m [\u001b[38;5;28;01mNone\u001b[39;00m]\n\u001b[1;32m    416\u001b[0m expand_composites \u001b[38;5;241m=\u001b[39m \u001b[38;5;28mbool\u001b[39m(expand_composites)\n\u001b[0;32m--> 417\u001b[0m \u001b[38;5;28;01mreturn\u001b[39;00m \u001b[43m_pywrap_utils\u001b[49m\u001b[38;5;241;43m.\u001b[39;49m\u001b[43mFlatten\u001b[49m\u001b[43m(\u001b[49m\u001b[43mstructure\u001b[49m\u001b[43m,\u001b[49m\u001b[43m \u001b[49m\u001b[43mexpand_composites\u001b[49m\u001b[43m)\u001b[49m\n",
      "\u001b[0;31mKeyboardInterrupt\u001b[0m: "
     ]
    }
   ],
   "source": [
    "ls5 = []\n",
    "for i in batch_sizes:\n",
    "    for j in learning_rates:\n",
    "        for k in epochs:\n",
    "\n",
    "            model.compile(optimizer=tf.keras.optimizers.Adam(learning_rate = j),\n",
    "              loss=tf.keras.losses.BinaryCrossentropy(from_logits=True),\n",
    "              metrics=['accuracy'])\n",
    "            \n",
    "            model.fit(X_train, y_train, batch_size = i, epochs=k,shuffle = True)\n",
    "\n",
    "            test_loss, test_acc = model.evaluate(X_test, y_test)\n",
    "\n",
    "            ls5.append([i, j, test_loss, test_acc])"
   ]
  },
  {
   "cell_type": "code",
   "execution_count": 145,
   "id": "63242019-7f67-4105-972a-2f0dcea6ed87",
   "metadata": {},
   "outputs": [
    {
     "data": {
      "text/plain": [
       "[[64, 0.001, 0.47184762358665466, 0.7250000238418579],\n",
       " [64, 0.001, 0.43870431184768677, 0.7749999761581421],\n",
       " [64, 0.001, 0.4028274416923523, 0.800000011920929],\n",
       " [64, 0.0001, 0.4029541015625, 0.800000011920929],\n",
       " [64, 0.0001, 0.39947694540023804, 0.824999988079071],\n",
       " [64, 0.0001, 0.3950316309928894, 0.8500000238418579],\n",
       " [64, 1e-05, 0.3925342261791229, 0.824999988079071],\n",
       " [64, 1e-05, 0.39212554693222046, 0.824999988079071],\n",
       " [64, 1e-05, 0.39355945587158203, 0.824999988079071],\n",
       " [128, 0.001, 0.6085519790649414, 0.75],\n",
       " [128, 0.001, 0.4092869758605957, 0.800000011920929],\n",
       " [128, 0.001, 0.38696563243865967, 0.824999988079071],\n",
       " [128, 0.0001, 0.40196818113327026, 0.800000011920929],\n",
       " [128, 0.0001, 0.4007951319217682, 0.875],\n",
       " [128, 0.0001, 0.4169038236141205, 0.875],\n",
       " [128, 1e-05, 0.41082820296287537, 0.875],\n",
       " [128, 1e-05, 0.40477389097213745, 0.8500000238418579]]"
      ]
     },
     "execution_count": 145,
     "metadata": {},
     "output_type": "execute_result"
    }
   ],
   "source": [
    "ls5"
   ]
  },
  {
   "cell_type": "code",
   "execution_count": null,
   "id": "1a15a287-64b3-4b44-81cd-72fa17e83437",
   "metadata": {},
   "outputs": [],
   "source": []
  }
 ],
 "metadata": {
  "kernelspec": {
   "display_name": "Python 3 (ipykernel)",
   "language": "python",
   "name": "python3"
  },
  "language_info": {
   "codemirror_mode": {
    "name": "ipython",
    "version": 3
   },
   "file_extension": ".py",
   "mimetype": "text/x-python",
   "name": "python",
   "nbconvert_exporter": "python",
   "pygments_lexer": "ipython3",
   "version": "3.8.16"
  }
 },
 "nbformat": 4,
 "nbformat_minor": 5
}

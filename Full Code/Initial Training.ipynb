{
 "cells": [
  {
   "cell_type": "markdown",
   "id": "768740c2-fd63-4173-b561-543adbdd23ca",
   "metadata": {},
   "source": [
    "Code to train a model with the specifications that worked best after the grid search on the input data and produce and save an output to the desginated directory"
   ]
  },
  {
   "cell_type": "code",
   "execution_count": 26,
   "id": "4c83c46d-ae7c-4548-ac5d-8ac4d6311d03",
   "metadata": {},
   "outputs": [],
   "source": [
    "import os\n",
    "import tensorflow as tf\n",
    "from tensorflow.keras import datasets, layers, models, utils, regularizers"
   ]
  },
  {
   "cell_type": "code",
   "execution_count": 2,
   "id": "978cba11-e1cb-40d2-9d9d-5b61d003b79f",
   "metadata": {},
   "outputs": [
    {
     "data": {
      "text/plain": [
       "'/Users/samklauer/GitHub/PawseySummer2024/Full Code'"
      ]
     },
     "execution_count": 2,
     "metadata": {},
     "output_type": "execute_result"
    }
   ],
   "source": [
    "os.getcwd()"
   ]
  },
  {
   "cell_type": "code",
   "execution_count": 3,
   "id": "61993196-191a-4d4f-99d5-2d6d06edbf65",
   "metadata": {},
   "outputs": [],
   "source": [
    "os.chdir('../')"
   ]
  },
  {
   "cell_type": "code",
   "execution_count": 4,
   "id": "d5551aec-d05a-48db-927a-ca7fae71b9f8",
   "metadata": {},
   "outputs": [
    {
     "data": {
      "text/plain": [
       "'/Users/samklauer/GitHub/PawseySummer2024'"
      ]
     },
     "execution_count": 4,
     "metadata": {},
     "output_type": "execute_result"
    }
   ],
   "source": [
    "os.getcwd()"
   ]
  },
  {
   "cell_type": "code",
   "execution_count": 5,
   "id": "19e0e1ee-f208-4846-8432-f24c9aecdfc4",
   "metadata": {},
   "outputs": [],
   "source": [
    "def fasta_reader(directory):\n",
    "    seqs = []\n",
    "    for file in os.listdir(directory):\n",
    "        seq = ''\n",
    "        filepath = directory + file\n",
    "        #print(file)\n",
    "        f = open(filepath, 'r')\n",
    "        if not file.startswith('.'):\n",
    "            for i in f:\n",
    "                if i[0] == '>':\n",
    "                    if seq != '':\n",
    "                        seqs.append(seq)\n",
    "                        seq = ''\n",
    "                else:\n",
    "                    seq += i.strip()\n",
    "            if seq != '':\n",
    "                seqs.append(seq)\n",
    "    return(seqs)"
   ]
  },
  {
   "cell_type": "code",
   "execution_count": 6,
   "id": "08548d38-9665-40c7-8cd3-d8a1177b7f73",
   "metadata": {},
   "outputs": [],
   "source": [
    "segments = fasta_reader('./segment database/segments/')\n",
    "nonseg = fasta_reader('./segment database/NCnonsegmentedsingle/')"
   ]
  },
  {
   "cell_type": "code",
   "execution_count": 7,
   "id": "96f4b00f-ef3d-4d4f-baf9-b58627866050",
   "metadata": {},
   "outputs": [],
   "source": [
    "def one_hot_encode(sequence):\n",
    "    encoding = {'A': [1, 0, 0, 0], 'C': [0, 1, 0, 0], 'G': [0, 0, 1, 0], 'T': [0, 0, 0, 1], 'U':[0, 0, 0, 1], 'N':[0,0,0,0]\n",
    "    , 'M':[0,0,0,0], 'R':[0,0,0,0], 'W':[0,0,0,0], 'S':[0,0,0,0], 'Y':[0,0,0,0], 'K':[0,0,0,0], 'V':[0,0,0,0], 'H':[0,0,0,0], 'D':[0,0,0,0],\n",
    "    'B':[0,0,0,0], 'E':[0,0,0,0], 'F':[0,0,0,0], 'I':[0,0,0,0], 'J':[0,0,0,0], 'L':[0,0,0,0], 'O':[0,0,0,0], \n",
    "    'P':[0,0,0,0], 'Q':[0,0,0,0], 'X':[0,0,0,0], 'Z':[0,0,0,0]}\n",
    "    encoded_sequence = []\n",
    "\n",
    "    for nucleotide in sequence:\n",
    "        if encoding.get(nucleotide):\n",
    "            encoded_sequence.append(encoding.get(nucleotide))\n",
    "        else:\n",
    "            encoded_sequence.append([0,0,0,0])\n",
    "\n",
    "    feature_length = 20000\n",
    "\n",
    "    while len(encoded_sequence) <20000:\n",
    "        encoded_sequence.append([0,0,0,0])\n",
    "\n",
    "    return encoded_sequence"
   ]
  },
  {
   "cell_type": "code",
   "execution_count": 13,
   "id": "a079255f-5df6-4b4a-b92e-3ae5c19ed700",
   "metadata": {},
   "outputs": [],
   "source": [
    "one_hot_non = []\n",
    "for i in nonseg:\n",
    "    one_hot_non.append(one_hot_encode(i))"
   ]
  },
  {
   "cell_type": "code",
   "execution_count": 14,
   "id": "672efe42-7fac-4f4e-bc63-0c6c16a456f5",
   "metadata": {},
   "outputs": [],
   "source": [
    "one_hot_seg = []\n",
    "for i in segments:\n",
    "    one_hot_seg.append(one_hot_encode(i))"
   ]
  },
  {
   "cell_type": "code",
   "execution_count": 15,
   "id": "010477ef-4ec8-49bb-9578-1af78924762d",
   "metadata": {},
   "outputs": [],
   "source": [
    "y = [1] * len(one_hot_seg) + [0] * len(one_hot_non)"
   ]
  },
  {
   "cell_type": "code",
   "execution_count": 16,
   "id": "71f064bf-69e7-4271-bdac-e79ac527cb13",
   "metadata": {},
   "outputs": [
    {
     "ename": "KeyboardInterrupt",
     "evalue": "",
     "output_type": "error",
     "traceback": [
      "\u001b[0;31m---------------------------------------------------------------------------\u001b[0m",
      "\u001b[0;31mKeyboardInterrupt\u001b[0m                         Traceback (most recent call last)",
      "Cell \u001b[0;32mIn[16], line 1\u001b[0m\n\u001b[0;32m----> 1\u001b[0m X \u001b[38;5;241m=\u001b[39m one_hot_seg \u001b[38;5;241m+\u001b[39m one_hot_non\n",
      "\u001b[0;31mKeyboardInterrupt\u001b[0m: "
     ]
    }
   ],
   "source": [
    "X = one_hot_seg + one_hot_non"
   ]
  },
  {
   "cell_type": "code",
   "execution_count": 17,
   "id": "2d5d8dd6-5daf-4f8e-81a7-243bbb44ed52",
   "metadata": {},
   "outputs": [],
   "source": [
    "X_train = []\n",
    "X_test = []\n",
    "y_train = []\n",
    "y_test = []\n",
    "for i in range(int(.8*len(one_hot_seg))):\n",
    "    X_train.append(one_hot_seg[i])\n",
    "    y_train.append([1])\n",
    "for i in range(int(.8*len(one_hot_seg)), len(one_hot_seg)):\n",
    "    X_test.append(one_hot_seg[i])\n",
    "    y_test.append([1])\n",
    "for i in range(int(.8 * len(one_hot_non))):\n",
    "    X_train.append(one_hot_non[i])\n",
    "    y_train.append([0])\n",
    "for i in range(int(.8 * len(one_hot_non)), len(one_hot_non)):\n",
    "    X_test.append(one_hot_non[i])\n",
    "    y_test.append([0])"
   ]
  },
  {
   "cell_type": "code",
   "execution_count": 27,
   "id": "6a4a0436-becf-408a-8bdd-5951c2616d05",
   "metadata": {},
   "outputs": [],
   "source": [
    "def model_builder(x, y, z):\n",
    "    model = models.Sequential()\n",
    "    model.add(layers.Conv1D(32, 2, activation='relu', input_shape=(20000,4), kernel_regularizer=regularizers.L1L2(l1=x, l2=x),\n",
    "        activity_regularizer=regularizers.L2(y)))\n",
    "    model.add(layers.MaxPooling1D(2))\n",
    "    model.add(layers.Dropout(z))\n",
    "    model.add(layers.Conv1D(32, 2, activation='relu', kernel_regularizer=regularizers.L1L2(l1=x, l2=x),\n",
    "        activity_regularizer=regularizers.L2(y)))\n",
    "    model.add(layers.MaxPooling1D(2))\n",
    "    model.add(layers.Dropout(z))\n",
    "    model.add(layers.Conv1D(32, 2, activation='relu', kernel_regularizer=regularizers.L1L2(l1=x, l2=x),\n",
    "        activity_regularizer=regularizers.L2(y)))\n",
    "    model.add(layers.MaxPooling1D())\n",
    "    model.add(layers.Flatten())\n",
    "    model.add(layers.Dropout(z))\n",
    "    model.add(layers.Dense(128, activation=\"relu\"))\n",
    "    model.add(layers.Dense(1, activation=\"sigmoid\"))\n",
    "    return model"
   ]
  },
  {
   "cell_type": "code",
   "execution_count": 28,
   "id": "43e9b076-a5af-4cac-a4a0-68b7e9bd7813",
   "metadata": {},
   "outputs": [],
   "source": [
    "dropout = .5\n",
    "kern = .0001\n",
    "act = .0001 "
   ]
  },
  {
   "cell_type": "code",
   "execution_count": 29,
   "id": "3a37bcf6-6ecd-474b-85f0-a0ac7e5be9ee",
   "metadata": {},
   "outputs": [],
   "source": [
    "helper =  'finalmodel.keras'"
   ]
  },
  {
   "cell_type": "code",
   "execution_count": 30,
   "id": "e32374f8-ed8e-44e9-a512-7d554369a1ad",
   "metadata": {},
   "outputs": [
    {
     "name": "stdout",
     "output_type": "stream",
     "text": [
      "Epoch 1/10\n"
     ]
    },
    {
     "name": "stderr",
     "output_type": "stream",
     "text": [
      "/opt/anaconda3/lib/python3.8/site-packages/tensorflow/python/util/dispatch.py:1096: UserWarning: \"`binary_crossentropy` received `from_logits=True`, but the `output` argument was produced by a sigmoid or softmax activation and thus does not represent logits. Was this intended?\"\n",
      "  return dispatch_target(*args, **kwargs)\n"
     ]
    },
    {
     "name": "stdout",
     "output_type": "stream",
     "text": [
      "1/1 [==============================] - 1s 1s/step - loss: 2.0107 - accuracy: 0.4375\n",
      "Epoch 2/10\n",
      "1/1 [==============================] - 0s 400ms/step - loss: 2.4296 - accuracy: 0.6250\n",
      "Epoch 3/10\n",
      "1/1 [==============================] - 0s 372ms/step - loss: 3.2412 - accuracy: 0.6875\n",
      "Epoch 4/10\n",
      "1/1 [==============================] - 0s 389ms/step - loss: 2.8175 - accuracy: 0.6875\n",
      "Epoch 5/10\n",
      "1/1 [==============================] - 0s 402ms/step - loss: 1.8065 - accuracy: 0.7500\n",
      "Epoch 6/10\n",
      "1/1 [==============================] - 0s 383ms/step - loss: 1.6668 - accuracy: 0.7500\n",
      "Epoch 7/10\n",
      "1/1 [==============================] - 0s 406ms/step - loss: 1.7991 - accuracy: 0.7500\n",
      "Epoch 8/10\n",
      "1/1 [==============================] - 0s 377ms/step - loss: 1.6826 - accuracy: 0.7500\n",
      "Epoch 9/10\n",
      "1/1 [==============================] - 0s 447ms/step - loss: 1.4086 - accuracy: 0.8125\n",
      "Epoch 10/10\n",
      "1/1 [==============================] - 0s 422ms/step - loss: 1.1946 - accuracy: 0.8125\n",
      "1/1 [==============================] - 0s 189ms/step - loss: 1.0696 - accuracy: 0.5000\n"
     ]
    }
   ],
   "source": [
    "model = model_builder(kern, act, dropout)\n",
    "model.compile(optimizer=tf.keras.optimizers.Adam(),\n",
    "    loss=tf.keras.losses.BinaryCrossentropy(from_logits=True),\n",
    "    metrics=['accuracy'])\n",
    "            \n",
    "model.fit(X_train, y_train, batch_size = 128, epochs=10,shuffle = True)\n",
    "\n",
    "model.save(helper)\n",
    "\n",
    "test_loss, test_acc = model.evaluate(X_test, y_test)"
   ]
  },
  {
   "cell_type": "code",
   "execution_count": null,
   "id": "e86d7006-cafa-4862-adb2-d87c8f140bce",
   "metadata": {},
   "outputs": [],
   "source": []
  }
 ],
 "metadata": {
  "kernelspec": {
   "display_name": "Python 3 (ipykernel)",
   "language": "python",
   "name": "python3"
  },
  "language_info": {
   "codemirror_mode": {
    "name": "ipython",
    "version": 3
   },
   "file_extension": ".py",
   "mimetype": "text/x-python",
   "name": "python",
   "nbconvert_exporter": "python",
   "pygments_lexer": "ipython3",
   "version": "3.8.16"
  }
 },
 "nbformat": 4,
 "nbformat_minor": 5
}

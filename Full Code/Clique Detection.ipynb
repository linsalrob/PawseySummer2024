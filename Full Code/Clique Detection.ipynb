{
 "cells": [
  {
   "cell_type": "markdown",
   "id": "e8e674a1-b2d0-4399-a484-f02732c35725",
   "metadata": {},
   "source": [
    "Import necessary packages and load the fully trained model to run on the created contigs and perform clique detection using a poisson distribution on the contigs"
   ]
  },
  {
   "cell_type": "code",
   "execution_count": 14,
   "id": "802e2060-137d-4af2-9807-746e414867c0",
   "metadata": {},
   "outputs": [],
   "source": [
    "import os\n",
    "import tensorflow as tf\n",
    "from tensorflow.keras import datasets, layers, models, utils, regularizers\n",
    "from tensorflow.keras.optimizers import Adam\n",
    "from tensorflow.keras.losses import BinaryCrossentropy\n",
    "from tensorflow.keras.metrics import BinaryAccuracy\n",
    "import scipy.stats as sp\n",
    "from scipy.stats import poisson\n",
    "import networkx as nx\n",
    "import numpy as np"
   ]
  },
  {
   "cell_type": "code",
   "execution_count": 2,
   "id": "b0ace273-9f99-4bea-864f-5f5ddf8e2fc0",
   "metadata": {},
   "outputs": [
    {
     "data": {
      "text/plain": [
       "'/Users/samklauer/GitHub/PawseySummer2024/Full Code'"
      ]
     },
     "execution_count": 2,
     "metadata": {},
     "output_type": "execute_result"
    }
   ],
   "source": [
    "os.getcwd()"
   ]
  },
  {
   "cell_type": "code",
   "execution_count": 3,
   "id": "8b02c379-990d-4a23-9ac2-72d0404b45b1",
   "metadata": {},
   "outputs": [],
   "source": [
    "os.chdir('../')"
   ]
  },
  {
   "cell_type": "code",
   "execution_count": 4,
   "id": "c2415c4c-18cb-49b2-814c-ac8e7df3561b",
   "metadata": {},
   "outputs": [
    {
     "name": "stderr",
     "output_type": "stream",
     "text": [
      "2025-03-10 13:23:52.185668: I tensorflow/core/platform/cpu_feature_guard.cc:151] This TensorFlow binary is optimized with oneAPI Deep Neural Network Library (oneDNN) to use the following CPU instructions in performance-critical operations:  AVX2 FMA\n",
      "To enable them in other operations, rebuild TensorFlow with the appropriate compiler flags.\n"
     ]
    }
   ],
   "source": [
    "newmodel = tf.keras.models.load_model(\n",
    "    './bestmodel.keras', compile=False)"
   ]
  },
  {
   "cell_type": "code",
   "execution_count": 5,
   "id": "a16d50c2-db37-4a20-8d79-70dd0290592e",
   "metadata": {},
   "outputs": [],
   "source": [
    "new_segs = []\n",
    "seg = ''\n",
    "f = open('./metagenome/mockmeta/contigs.fasta', 'r')\n",
    "for i in f:\n",
    "    if i[0] == '>':\n",
    "        if seg != '':\n",
    "            new_segs.append(seg)\n",
    "            seg = ''\n",
    "    else:\n",
    "        seg += i.strip()\n",
    "new_segs.append(seg)"
   ]
  },
  {
   "cell_type": "code",
   "execution_count": 6,
   "id": "9b17d42c-56cb-4de4-b80e-17fc9543a146",
   "metadata": {},
   "outputs": [],
   "source": [
    "def one_hot_encode(sequence):\n",
    "    encoding = {'A': [1, 0, 0, 0], 'C': [0, 1, 0, 0], 'G': [0, 0, 1, 0], 'T': [0, 0, 0, 1], 'U':[0, 0, 0, 1], 'N':[0,0,0,0]\n",
    "    , 'M':[0,0,0,0], 'R':[0,0,0,0], 'W':[0,0,0,0], 'S':[0,0,0,0], 'Y':[0,0,0,0], 'K':[0,0,0,0], 'V':[0,0,0,0], 'H':[0,0,0,0], 'D':[0,0,0,0],\n",
    "    'B':[0,0,0,0], 'E':[0,0,0,0], 'F':[0,0,0,0], 'I':[0,0,0,0], 'J':[0,0,0,0], 'L':[0,0,0,0], 'O':[0,0,0,0], \n",
    "    'P':[0,0,0,0], 'Q':[0,0,0,0], 'X':[0,0,0,0], 'Z':[0,0,0,0]}\n",
    "    encoded_sequence = []\n",
    "\n",
    "    for nucleotide in sequence:\n",
    "        if encoding.get(nucleotide):\n",
    "            encoded_sequence.append(encoding.get(nucleotide))\n",
    "        else:\n",
    "            encoded_sequence.append([0,0,0,0])\n",
    "\n",
    "    feature_length = 20000\n",
    "\n",
    "    while len(encoded_sequence) <20000:\n",
    "        encoded_sequence.append([0,0,0,0])\n",
    "\n",
    "    return encoded_sequence"
   ]
  },
  {
   "cell_type": "code",
   "execution_count": 7,
   "id": "001959f1-44f5-4f73-8f9d-6636bb580382",
   "metadata": {},
   "outputs": [],
   "source": [
    "onehotfin = []\n",
    "for i in new_segs:\n",
    "    onehotfin.append(one_hot_encode(i))"
   ]
  },
  {
   "cell_type": "code",
   "execution_count": 8,
   "id": "d875d28e-d3c0-4ae0-b786-35ec25770548",
   "metadata": {},
   "outputs": [
    {
     "data": {
      "text/plain": [
       "array([[1.3585904e-08],\n",
       "       [1.5720769e-07],\n",
       "       [2.2577677e-08],\n",
       "       [9.2018485e-01],\n",
       "       [9.1754091e-01],\n",
       "       [8.9215559e-01],\n",
       "       [9.0476811e-01],\n",
       "       [9.1346490e-01],\n",
       "       [8.5793692e-01],\n",
       "       [8.4823561e-01],\n",
       "       [8.4811091e-01],\n",
       "       [7.4256963e-01]], dtype=float32)"
      ]
     },
     "execution_count": 8,
     "metadata": {},
     "output_type": "execute_result"
    }
   ],
   "source": [
    "newmodel.predict(onehotfin)"
   ]
  },
  {
   "cell_type": "code",
   "execution_count": 9,
   "id": "1aafe494-374c-4381-93da-8d6d5ee63891",
   "metadata": {},
   "outputs": [],
   "source": [
    "set1 = [201.24153, 150.91826, 100.65176, 254.61588, 305.60623, 358.0711, 257.17203, \n",
    "        360.2416, 308.6203, 384.97058, 276.30237, 336.24167]"
   ]
  },
  {
   "cell_type": "code",
   "execution_count": 10,
   "id": "b51a5e52-27dd-4488-9134-c685e5dcc07d",
   "metadata": {},
   "outputs": [],
   "source": [
    "set2 = [50.261837, 150.92822, 100.64756, 203.76047, 305.5656, 408.96686, 205.86485,\n",
    "        411.72147, 308.60416, 440.3518, 221.68289, 335.83725]"
   ]
  },
  {
   "cell_type": "code",
   "execution_count": 11,
   "id": "930829aa-b6bd-492f-9003-32b95693442d",
   "metadata": {},
   "outputs": [],
   "source": [
    "set3 = [402.39304, 352.01343, 301.92075, 50.979782, 101.90189, 255.70882, 51.46436,\n",
    "        257.28146, 102.942184, 275.44458, 55.71914, 112.89519]"
   ]
  },
  {
   "cell_type": "code",
   "execution_count": 12,
   "id": "3809d427-bdf2-4411-94a6-e44d5aa03d6c",
   "metadata": {},
   "outputs": [],
   "source": [
    "obj = []\n",
    "for i in range(len(set1)):\n",
    "    helper = [int(set1[i]), int(set2[i]), int(set3[i])]\n",
    "    obj.append(helper)"
   ]
  },
  {
   "cell_type": "code",
   "execution_count": 15,
   "id": "f26e28d5-61a7-4e97-9e9c-a32fbb095514",
   "metadata": {},
   "outputs": [],
   "source": [
    "mat = np.ones((12,12))\n",
    "for i in range(len(obj)):\n",
    "    for j in range(len(obj)):\n",
    "        cov_c = np.array(obj[i])\n",
    "        cov_c_prime = np.array(obj[j])\n",
    "\n",
    "        poisson_c_given_c_prime = poisson.pmf(obj[i], obj[j])\n",
    "        poisson_c_prime_given_c = poisson.pmf(cov_c_prime, cov_c)\n",
    "        \n",
    "        score_c_given_c_prime = np.prod(poisson_c_given_c_prime)\n",
    "        score_c_prime_given_c = np.prod(poisson_c_prime_given_c)\n",
    "\n",
    "        mat[i][j] = min(score_c_given_c_prime, score_c_prime_given_c)"
   ]
  },
  {
   "cell_type": "code",
   "execution_count": 16,
   "id": "dadda72e-5b85-43f9-8a83-91eb9e4afa78",
   "metadata": {},
   "outputs": [],
   "source": [
    "for i in mat:\n",
    "    i = i/np.max(i)"
   ]
  },
  {
   "cell_type": "code",
   "execution_count": 17,
   "id": "12900bdb-f293-4e83-80b5-300b6715351c",
   "metadata": {},
   "outputs": [],
   "source": [
    "new_mat = mat / np.max(mat, axis=(1), keepdims=True)"
   ]
  },
  {
   "cell_type": "code",
   "execution_count": 18,
   "id": "05906445-8b93-46e3-b8a2-4cce3556647e",
   "metadata": {},
   "outputs": [
    {
     "name": "stdout",
     "output_type": "stream",
     "text": [
      "3 (array([3]), array([6]))\n",
      "3 (array([3]), array([10]))\n",
      "4 (array([4]), array([8]))\n",
      "4 (array([4]), array([11]))\n",
      "5 (array([5]), array([7]))\n",
      "5 (array([5]), array([9]))\n",
      "6 (array([6]), array([3]))\n",
      "6 (array([6]), array([10]))\n",
      "7 (array([7]), array([5]))\n",
      "7 (array([7]), array([9]))\n",
      "8 (array([8]), array([4]))\n",
      "8 (array([8]), array([11]))\n",
      "9 (array([9]), array([5]))\n",
      "9 (array([9]), array([7]))\n",
      "10 (array([10]), array([3]))\n",
      "10 (array([10]), array([6]))\n",
      "11 (array([11]), array([4]))\n",
      "11 (array([11]), array([8]))\n"
     ]
    }
   ],
   "source": [
    "counter = 0\n",
    "for i in new_mat:\n",
    "    for j in i:\n",
    "        if j > 1e-10 and j < 1:\n",
    "            print(counter, np.where(new_mat == j))\n",
    "    counter +=1"
   ]
  },
  {
   "cell_type": "code",
   "execution_count": 19,
   "id": "a8a721de-fd46-4aa7-b656-3a55e696079e",
   "metadata": {},
   "outputs": [],
   "source": [
    "DG = nx.Graph()\n",
    "DG.add_nodes_from(range(0,12))\n",
    "DG.add_edge(3, 6) \n",
    "DG.add_edge(3, 10)\n",
    "DG.add_edge(4, 8)\n",
    "DG.add_edge(4, 11)\n",
    "DG.add_edge(5, 7)  \n",
    "DG.add_edge(5, 9)\n",
    "DG.add_edge(6, 3)\n",
    "DG.add_edge(6, 10)\n",
    "DG.add_edge(7, 5)\n",
    "DG.add_edge(7, 9)\n",
    "DG.add_edge(8, 4)\n",
    "DG.add_edge(8, 11)\n",
    "DG.add_edge(9, 5)\n",
    "DG.add_edge(9, 7)\n",
    "DG.add_edge(10, 3)\n",
    "DG.add_edge(10, 6)\n",
    "DG.add_edge(11, 4)\n",
    "DG.add_edge(11, 8)"
   ]
  },
  {
   "cell_type": "code",
   "execution_count": 20,
   "id": "c630cf1d-0be9-4b80-ae2c-d7f4ca96615d",
   "metadata": {},
   "outputs": [
    {
     "data": {
      "text/plain": [
       "[[0], [1], [2], [3, 10, 6], [4, 8, 11], [5, 9, 7]]"
      ]
     },
     "execution_count": 20,
     "metadata": {},
     "output_type": "execute_result"
    }
   ],
   "source": [
    "list(nx.find_cliques(DG))"
   ]
  },
  {
   "cell_type": "code",
   "execution_count": 21,
   "id": "83acc2cf-c26f-4744-bc8e-1bc3c32e1801",
   "metadata": {},
   "outputs": [
    {
     "data": {
      "image/png": "[encoded data removed]",
      "text/plain": [
       "<Figure size 640x480 with 1 Axes>"
      ]
     },
     "metadata": {},
     "output_type": "display_data"
    }
   ],
   "source": [
    "nx.draw(DG, node_color = '#A98307')"
   ]
  },
  {
   "cell_type": "code",
   "execution_count": null,
   "id": "a86aa1c2-dc2f-48c7-8874-ab256e1f8503",
   "metadata": {},
   "outputs": [],
   "source": []
  }
 ],
 "metadata": {
  "kernelspec": {
   "display_name": "Python 3 (ipykernel)",
   "language": "python",
   "name": "python3"
  },
  "language_info": {
   "codemirror_mode": {
    "name": "ipython",
    "version": 3
   },
   "file_extension": ".py",
   "mimetype": "text/x-python",
   "name": "python",
   "nbconvert_exporter": "python",
   "pygments_lexer": "ipython3",
   "version": "3.8.16"
  }
 },
 "nbformat": 4,
 "nbformat_minor": 5
}

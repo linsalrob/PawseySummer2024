{
 "cells": [
  {
   "cell_type": "code",
   "execution_count": 1,
   "id": "ec9547d5-0fe3-42b7-9925-c9794c1d57ef",
   "metadata": {},
   "outputs": [],
   "source": [
    "import pandas as pd"
   ]
  },
  {
   "cell_type": "code",
   "execution_count": 3,
   "id": "2a860e77-e8f4-4f4c-a5e9-6d162c9eae7d",
   "metadata": {},
   "outputs": [],
   "source": [
    "raw = pd.read_csv('raw_sequences.csv')"
   ]
  },
  {
   "cell_type": "code",
   "execution_count": 16,
   "id": "1852e8e4-097c-4269-b867-d0941f562093",
   "metadata": {},
   "outputs": [],
   "source": [
    "uniq = set(list(raw['Organism_Name']))"
   ]
  },
  {
   "cell_type": "code",
   "execution_count": 21,
   "id": "4a66661d-863d-46c1-9da0-3c9561d987ab",
   "metadata": {},
   "outputs": [],
   "source": [
    "with open(\"virus_taxa_list.txt\", \"w\") as output:\n",
    "    for i in uniq:\n",
    "       output.write(i + '\\n') "
   ]
  },
  {
   "cell_type": "code",
   "execution_count": null,
   "id": "2cdb43f0-1eae-47fa-a3fc-128a24516aa6",
   "metadata": {},
   "outputs": [],
   "source": []
  }
 ],
 "metadata": {
  "kernelspec": {
   "display_name": "Python 3 (ipykernel)",
   "language": "python",
   "name": "python3"
  },
  "language_info": {
   "codemirror_mode": {
    "name": "ipython",
    "version": 3
   },
   "file_extension": ".py",
   "mimetype": "text/x-python",
   "name": "python",
   "nbconvert_exporter": "python",
   "pygments_lexer": "ipython3",
   "version": "3.8.16"
  }
 },
 "nbformat": 4,
 "nbformat_minor": 5
}
